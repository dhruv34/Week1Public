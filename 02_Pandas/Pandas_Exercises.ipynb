{
 "cells": [
  {
   "cell_type": "markdown",
   "source": "# Pandas Exercises",
   "metadata": {
    "colab_type": "text",
    "id": "bSU6eKZTdMXZ",
    "cell_id": "00000-a1a70b45-4173-41c3-bd0f-1c7334aedbc1",
    "deepnote_cell_type": "markdown"
   }
  },
  {
   "cell_type": "code",
   "metadata": {
    "colab_type": "code",
    "id": "c5ewTg7vdQFm",
    "colab": {},
    "cell_id": "00001-c6d0491e-81bf-48bb-9f7d-2474bd25924c",
    "deepnote_to_be_reexecuted": false,
    "source_hash": "73161b4",
    "execution_start": 1625600177848,
    "execution_millis": 146549,
    "deepnote_cell_type": "code"
   },
   "source": "import pandas as pd\n\nurl = \"https://raw.githubusercontent.com/BeaverWorksMedlytics2020/Data_Public/master/NotebookExampleData/Week1/diabetes.csv\"\nnames = ['preg', 'plas', 'pres', 'skin', 'test', 'mass', 'pedi', 'age', 'class']",
   "outputs": [],
   "execution_count": null
  },
  {
   "cell_type": "markdown",
   "source": "Read in csv above to a pandas dataframe",
   "metadata": {
    "colab_type": "text",
    "id": "QOLgFaSKeShR",
    "cell_id": "00002-042a372d-c00c-4c1f-ac93-787afa44b1e9",
    "deepnote_cell_type": "markdown"
   }
  },
  {
   "cell_type": "code",
   "metadata": {
    "colab_type": "code",
    "id": "Okcb8dnXeX2C",
    "colab": {},
    "cell_id": "00003-3853efa3-180b-4c70-8be9-3a18524779a8",
    "deepnote_to_be_reexecuted": false,
    "source_hash": "59b21b99",
    "execution_start": 1625600177850,
    "execution_millis": 11,
    "deepnote_cell_type": "code"
   },
   "source": "# YOUR CODE HERE\ndata = pd.read_csv(url, names=names)",
   "outputs": [],
   "execution_count": null
  },
  {
   "cell_type": "markdown",
   "source": "Print out the age and class of the 100th patient",
   "metadata": {
    "colab_type": "text",
    "id": "d4DyOsuoewE2",
    "cell_id": "00004-7ec9296d-24bf-4019-8f5a-c844c6b8cb1a",
    "deepnote_cell_type": "markdown"
   }
  },
  {
   "cell_type": "code",
   "metadata": {
    "colab_type": "code",
    "id": "xZqBsg39eY8_",
    "colab": {},
    "cell_id": "00005-0056ddb4-3287-41f8-834d-5ece93cf6909",
    "deepnote_to_be_reexecuted": false,
    "source_hash": "fcf1a9a6",
    "execution_start": 1625600177911,
    "execution_millis": 5,
    "deepnote_cell_type": "code"
   },
   "source": "# YOUR CODE HERE\ndata.iloc[100,7:]",
   "outputs": [
    {
     "output_type": "execute_result",
     "execution_count": 17,
     "data": {
      "text/plain": "age      33.0\nclass     1.0\nName: 100, dtype: float64"
     },
     "metadata": {}
    }
   ],
   "execution_count": null
  },
  {
   "cell_type": "markdown",
   "source": "Write code to figure out how many people are classified as not having diabetes, class is 0",
   "metadata": {
    "colab_type": "text",
    "id": "j8L2EM-5iOWc",
    "cell_id": "00006-82daaf2f-3e31-463a-9b7a-53799ab84fef",
    "deepnote_cell_type": "markdown"
   }
  },
  {
   "cell_type": "code",
   "metadata": {
    "colab_type": "code",
    "id": "vohzS51WiWvD",
    "colab": {},
    "cell_id": "00007-2d900e3b-23a6-403c-9bde-7e09d0510fcd",
    "deepnote_to_be_reexecuted": false,
    "source_hash": "91bca90b",
    "execution_start": 1625600177911,
    "execution_millis": 248,
    "deepnote_cell_type": "code"
   },
   "source": "# YOUR CODE HERE\nx = 0\nfor i in range(0,768):\n    if int(data.iloc[i,8:]) == 0:\n        x += 1\nprint(x, \"people don't have diabetes\")",
   "outputs": [
    {
     "name": "stdout",
     "text": "500 people don't have diabetes\n",
     "output_type": "stream"
    }
   ],
   "execution_count": null
  },
  {
   "cell_type": "markdown",
   "source": "Write code to figure out how many people are classified as having diabetes, class is 1",
   "metadata": {
    "colab_type": "text",
    "id": "ieGRz4iiiX4E",
    "cell_id": "00008-389ce810-0027-4af4-b4bf-a5bdc38c1573",
    "deepnote_cell_type": "markdown"
   }
  },
  {
   "cell_type": "code",
   "metadata": {
    "colab_type": "code",
    "id": "-jq2O-vriXRT",
    "colab": {},
    "cell_id": "00009-5eb55bcc-0b10-4a59-a3de-fad689a23fe1",
    "deepnote_to_be_reexecuted": false,
    "source_hash": "cec424c3",
    "execution_start": 1625600178187,
    "execution_millis": 28,
    "deepnote_cell_type": "code"
   },
   "source": "# YOUR CODE HERE\nnum = 0\nfor i in range (0, 768):\n    if int(data.iloc[i, 8]) == 1:\n        num+=1\nprint(num, \"people have diabetes\")",
   "outputs": [
    {
     "name": "stdout",
     "text": "268 people have diabetes\n",
     "output_type": "stream"
    }
   ],
   "execution_count": null
  },
  {
   "cell_type": "markdown",
   "source": "What percent of people have diabetes in the study",
   "metadata": {
    "colab_type": "text",
    "id": "oeFT7T9OnuSd",
    "cell_id": "00010-31b5f7c6-ea56-457b-ae9c-72ab86c5c567",
    "deepnote_cell_type": "markdown"
   }
  },
  {
   "cell_type": "code",
   "metadata": {
    "colab_type": "code",
    "id": "zGGHptFYnwq0",
    "colab": {},
    "cell_id": "00011-a33c8893-4cbc-42b5-898d-e3115c13e329",
    "deepnote_to_be_reexecuted": false,
    "source_hash": "10745864",
    "execution_start": 1625600178255,
    "execution_millis": 6,
    "deepnote_cell_type": "code"
   },
   "source": "# YOUR CODE HERE\ncnt = 0.0\nfor i in range(data.shape[0]):\n    cnt += int(data.loc[i, 'class'])\ncnt /= data.shape[0]\nprint(cnt * 100, \"% of people have diabetes\")\n    ",
   "outputs": [
    {
     "name": "stdout",
     "text": "34.89583333333333 % of people have diabetes\n",
     "output_type": "stream"
    }
   ],
   "execution_count": null
  },
  {
   "cell_type": "markdown",
   "source": "Print out the `\"pres\"` and `\"class\"` (no other columns) for the first 5 people",
   "metadata": {
    "colab_type": "text",
    "id": "nbrjnRPafs0p",
    "cell_id": "00012-5080ee0d-b515-4ca1-954d-63144b849480",
    "deepnote_cell_type": "markdown"
   }
  },
  {
   "cell_type": "code",
   "metadata": {
    "colab_type": "code",
    "id": "GiNCJ19KfHJQ",
    "colab": {},
    "cell_id": "00013-52905732-b305-424f-98c1-182e4ababc0c",
    "deepnote_to_be_reexecuted": false,
    "source_hash": "8025e442",
    "execution_start": 1625600178256,
    "execution_millis": 50,
    "deepnote_cell_type": "code"
   },
   "source": "# YOUR CODE HERE\nprint(data.loc[0:5, 'pres'])\nprint(data.loc[0:5, 'class'])\ndata.loc[0:2, 'pres']\ndata.loc[0:2, 'class']",
   "outputs": [
    {
     "name": "stdout",
     "text": "0    72\n1    66\n2    64\n3    66\n4    40\n5    74\nName: pres, dtype: int64\n0    1\n1    0\n2    1\n3    0\n4    1\n5    0\nName: class, dtype: int64\n",
     "output_type": "stream"
    },
    {
     "output_type": "execute_result",
     "execution_count": 21,
     "data": {
      "text/plain": "0    1\n1    0\n2    1\nName: class, dtype: int64"
     },
     "metadata": {}
    }
   ],
   "execution_count": null
  },
  {
   "cell_type": "markdown",
   "source": "Run the cell below, it will print out the correlation among the columns",
   "metadata": {
    "colab_type": "text",
    "id": "O-CcsoqlhxUn",
    "cell_id": "00014-f3aad72a-9f72-4fb7-9d82-8d10b502d48a",
    "deepnote_cell_type": "markdown"
   }
  },
  {
   "cell_type": "code",
   "metadata": {
    "colab_type": "code",
    "id": "pXpVFt6MffQt",
    "colab": {},
    "cell_id": "00015-2172a85f-0f52-484b-a29e-5c3e48658917",
    "deepnote_to_be_reexecuted": false,
    "source_hash": "135b37ac",
    "execution_start": 1625600178299,
    "execution_millis": 21,
    "deepnote_cell_type": "code"
   },
   "source": "data.corr()\n",
   "outputs": [
    {
     "output_type": "execute_result",
     "execution_count": 22,
     "data": {
      "application/vnd.deepnote.dataframe.v2+json": {
       "row_count": 9,
       "column_count": 9,
       "columns": [
        {
         "name": "preg",
         "dtype": "float64",
         "stats": {
          "unique_count": 9,
          "nan_count": 0,
          "min": "-0.08167177444900726",
          "max": "1.0",
          "histogram": [
           {
            "bin_start": -0.08167177444900726,
            "bin_end": 0.026495402995893452,
            "count": 4
           },
           {
            "bin_start": 0.026495402995893452,
            "bin_end": 0.13466258044079416,
            "count": 1
           },
           {
            "bin_start": 0.13466258044079416,
            "bin_end": 0.24282975788569489,
            "count": 2
           },
           {
            "bin_start": 0.24282975788569489,
            "bin_end": 0.3509969353305956,
            "count": 0
           },
           {
            "bin_start": 0.3509969353305956,
            "bin_end": 0.45916411277549635,
            "count": 0
           },
           {
            "bin_start": 0.45916411277549635,
            "bin_end": 0.567331290220397,
            "count": 1
           },
           {
            "bin_start": 0.567331290220397,
            "bin_end": 0.6754984676652978,
            "count": 0
           },
           {
            "bin_start": 0.6754984676652978,
            "bin_end": 0.7836656451101984,
            "count": 0
           },
           {
            "bin_start": 0.7836656451101984,
            "bin_end": 0.8918328225550991,
            "count": 0
           },
           {
            "bin_start": 0.8918328225550991,
            "bin_end": 1,
            "count": 1
           }
          ]
         }
        },
        {
         "name": "plas",
         "dtype": "float64",
         "stats": {
          "unique_count": 9,
          "nan_count": 0,
          "min": "0.05732789073817692",
          "max": "1.0",
          "histogram": [
           {
            "bin_start": 0.05732789073817692,
            "bin_end": 0.15159510166435924,
            "count": 3
           },
           {
            "bin_start": 0.15159510166435924,
            "bin_end": 0.24586231259054156,
            "count": 2
           },
           {
            "bin_start": 0.24586231259054156,
            "bin_end": 0.3401295235167239,
            "count": 2
           },
           {
            "bin_start": 0.3401295235167239,
            "bin_end": 0.43439673444290616,
            "count": 0
           },
           {
            "bin_start": 0.43439673444290616,
            "bin_end": 0.5286639453690885,
            "count": 1
           },
           {
            "bin_start": 0.5286639453690885,
            "bin_end": 0.6229311562952708,
            "count": 0
           },
           {
            "bin_start": 0.6229311562952708,
            "bin_end": 0.7171983672214531,
            "count": 0
           },
           {
            "bin_start": 0.7171983672214531,
            "bin_end": 0.8114655781476354,
            "count": 0
           },
           {
            "bin_start": 0.8114655781476354,
            "bin_end": 0.9057327890738177,
            "count": 0
           },
           {
            "bin_start": 0.9057327890738177,
            "bin_end": 1,
            "count": 1
           }
          ]
         }
        },
        {
         "name": "pres",
         "dtype": "float64",
         "stats": {
          "unique_count": 9,
          "nan_count": 0,
          "min": "0.04126494793009856",
          "max": "1.0",
          "histogram": [
           {
            "bin_start": 0.04126494793009856,
            "bin_end": 0.1371384531370887,
            "count": 3
           },
           {
            "bin_start": 0.1371384531370887,
            "bin_end": 0.23301195834407884,
            "count": 3
           },
           {
            "bin_start": 0.23301195834407884,
            "bin_end": 0.328885463551069,
            "count": 2
           },
           {
            "bin_start": 0.328885463551069,
            "bin_end": 0.42475896875805913,
            "count": 0
           },
           {
            "bin_start": 0.42475896875805913,
            "bin_end": 0.5206324739650493,
            "count": 0
           },
           {
            "bin_start": 0.5206324739650493,
            "bin_end": 0.6165059791720395,
            "count": 0
           },
           {
            "bin_start": 0.6165059791720395,
            "bin_end": 0.7123794843790296,
            "count": 0
           },
           {
            "bin_start": 0.7123794843790296,
            "bin_end": 0.8082529895860198,
            "count": 0
           },
           {
            "bin_start": 0.8082529895860198,
            "bin_end": 0.9041264947930099,
            "count": 0
           },
           {
            "bin_start": 0.9041264947930099,
            "bin_end": 1,
            "count": 1
           }
          ]
         }
        },
        {
         "name": "skin",
         "dtype": "float64",
         "stats": {
          "unique_count": 9,
          "nan_count": 0,
          "min": "-0.11397026236774152",
          "max": "1.0",
          "histogram": [
           {
            "bin_start": -0.11397026236774152,
            "bin_end": -0.0025732361309673824,
            "count": 2
           },
           {
            "bin_start": -0.0025732361309673824,
            "bin_end": 0.10882379010580676,
            "count": 2
           },
           {
            "bin_start": 0.10882379010580676,
            "bin_end": 0.22022081634258087,
            "count": 2
           },
           {
            "bin_start": 0.22022081634258087,
            "bin_end": 0.331617842579355,
            "count": 0
           },
           {
            "bin_start": 0.331617842579355,
            "bin_end": 0.44301486881612917,
            "count": 2
           },
           {
            "bin_start": 0.44301486881612917,
            "bin_end": 0.5544118950529032,
            "count": 0
           },
           {
            "bin_start": 0.5544118950529032,
            "bin_end": 0.6658089212896774,
            "count": 0
           },
           {
            "bin_start": 0.6658089212896774,
            "bin_end": 0.7772059475264516,
            "count": 0
           },
           {
            "bin_start": 0.7772059475264516,
            "bin_end": 0.8886029737632256,
            "count": 0
           },
           {
            "bin_start": 0.8886029737632256,
            "bin_end": 1,
            "count": 1
           }
          ]
         }
        },
        {
         "name": "test",
         "dtype": "float64",
         "stats": {
          "unique_count": 9,
          "nan_count": 0,
          "min": "-0.07353461435162822",
          "max": "1.0",
          "histogram": [
           {
            "bin_start": -0.07353461435162822,
            "bin_end": 0.033818847083534595,
            "count": 2
           },
           {
            "bin_start": 0.033818847083534595,
            "bin_end": 0.14117230851869741,
            "count": 2
           },
           {
            "bin_start": 0.14117230851869741,
            "bin_end": 0.24852576995386022,
            "count": 2
           },
           {
            "bin_start": 0.24852576995386022,
            "bin_end": 0.35587923138902305,
            "count": 1
           },
           {
            "bin_start": 0.35587923138902305,
            "bin_end": 0.4632326928241859,
            "count": 1
           },
           {
            "bin_start": 0.4632326928241859,
            "bin_end": 0.5705861542593487,
            "count": 0
           },
           {
            "bin_start": 0.5705861542593487,
            "bin_end": 0.6779396156945116,
            "count": 0
           },
           {
            "bin_start": 0.6779396156945116,
            "bin_end": 0.7852930771296743,
            "count": 0
           },
           {
            "bin_start": 0.7852930771296743,
            "bin_end": 0.8926465385648371,
            "count": 0
           },
           {
            "bin_start": 0.8926465385648371,
            "bin_end": 1,
            "count": 1
           }
          ]
         }
        },
        {
         "name": "mass",
         "dtype": "float64",
         "stats": {
          "unique_count": 9,
          "nan_count": 0,
          "min": "0.017683090727830565",
          "max": "1.0",
          "histogram": [
           {
            "bin_start": 0.017683090727830565,
            "bin_end": 0.11591478165504751,
            "count": 2
           },
           {
            "bin_start": 0.11591478165504751,
            "bin_end": 0.21414647258226444,
            "count": 2
           },
           {
            "bin_start": 0.21414647258226444,
            "bin_end": 0.3123781635094814,
            "count": 3
           },
           {
            "bin_start": 0.3123781635094814,
            "bin_end": 0.41060985443669834,
            "count": 1
           },
           {
            "bin_start": 0.41060985443669834,
            "bin_end": 0.5088415453639152,
            "count": 0
           },
           {
            "bin_start": 0.5088415453639152,
            "bin_end": 0.6070732362911322,
            "count": 0
           },
           {
            "bin_start": 0.6070732362911322,
            "bin_end": 0.7053049272183491,
            "count": 0
           },
           {
            "bin_start": 0.7053049272183491,
            "bin_end": 0.8035366181455661,
            "count": 0
           },
           {
            "bin_start": 0.8035366181455661,
            "bin_end": 0.901768309072783,
            "count": 0
           },
           {
            "bin_start": 0.901768309072783,
            "bin_end": 1,
            "count": 1
           }
          ]
         }
        },
        {
         "name": "pedi",
         "dtype": "float64",
         "stats": {
          "unique_count": 9,
          "nan_count": 0,
          "min": "-0.03352267296261304",
          "max": "1.0",
          "histogram": [
           {
            "bin_start": -0.03352267296261304,
            "bin_end": 0.06982959433364827,
            "count": 3
           },
           {
            "bin_start": 0.06982959433364827,
            "bin_end": 0.17318186162990956,
            "count": 2
           },
           {
            "bin_start": 0.17318186162990956,
            "bin_end": 0.2765341289261709,
            "count": 3
           },
           {
            "bin_start": 0.2765341289261709,
            "bin_end": 0.3798863962224322,
            "count": 0
           },
           {
            "bin_start": 0.3798863962224322,
            "bin_end": 0.4832386635186935,
            "count": 0
           },
           {
            "bin_start": 0.4832386635186935,
            "bin_end": 0.5865909308149548,
            "count": 0
           },
           {
            "bin_start": 0.5865909308149548,
            "bin_end": 0.6899431981112161,
            "count": 0
           },
           {
            "bin_start": 0.6899431981112161,
            "bin_end": 0.7932954654074774,
            "count": 0
           },
           {
            "bin_start": 0.7932954654074774,
            "bin_end": 0.8966477327037388,
            "count": 0
           },
           {
            "bin_start": 0.8966477327037388,
            "bin_end": 1,
            "count": 1
           }
          ]
         }
        },
        {
         "name": "age",
         "dtype": "float64",
         "stats": {
          "unique_count": 9,
          "nan_count": 0,
          "min": "-0.11397026236774152",
          "max": "1.0",
          "histogram": [
           {
            "bin_start": -0.11397026236774152,
            "bin_end": -0.0025732361309673824,
            "count": 2
           },
           {
            "bin_start": -0.0025732361309673824,
            "bin_end": 0.10882379010580676,
            "count": 2
           },
           {
            "bin_start": 0.10882379010580676,
            "bin_end": 0.22022081634258087,
            "count": 0
           },
           {
            "bin_start": 0.22022081634258087,
            "bin_end": 0.331617842579355,
            "count": 3
           },
           {
            "bin_start": 0.331617842579355,
            "bin_end": 0.44301486881612917,
            "count": 0
           },
           {
            "bin_start": 0.44301486881612917,
            "bin_end": 0.5544118950529032,
            "count": 1
           },
           {
            "bin_start": 0.5544118950529032,
            "bin_end": 0.6658089212896774,
            "count": 0
           },
           {
            "bin_start": 0.6658089212896774,
            "bin_end": 0.7772059475264516,
            "count": 0
           },
           {
            "bin_start": 0.7772059475264516,
            "bin_end": 0.8886029737632256,
            "count": 0
           },
           {
            "bin_start": 0.8886029737632256,
            "bin_end": 1,
            "count": 1
           }
          ]
         }
        },
        {
         "name": "class",
         "dtype": "float64",
         "stats": {
          "unique_count": 9,
          "nan_count": 0,
          "min": "0.06506835955033277",
          "max": "1.0",
          "histogram": [
           {
            "bin_start": 0.06506835955033277,
            "bin_end": 0.15856152359529951,
            "count": 3
           },
           {
            "bin_start": 0.15856152359529951,
            "bin_end": 0.25205468764026623,
            "count": 3
           },
           {
            "bin_start": 0.25205468764026623,
            "bin_end": 0.34554785168523294,
            "count": 1
           },
           {
            "bin_start": 0.34554785168523294,
            "bin_end": 0.4390410157301997,
            "count": 0
           },
           {
            "bin_start": 0.4390410157301997,
            "bin_end": 0.5325341797751664,
            "count": 1
           },
           {
            "bin_start": 0.5325341797751664,
            "bin_end": 0.6260273438201331,
            "count": 0
           },
           {
            "bin_start": 0.6260273438201331,
            "bin_end": 0.7195205078650998,
            "count": 0
           },
           {
            "bin_start": 0.7195205078650998,
            "bin_end": 0.8130136719100666,
            "count": 0
           },
           {
            "bin_start": 0.8130136719100666,
            "bin_end": 0.9065068359550333,
            "count": 0
           },
           {
            "bin_start": 0.9065068359550333,
            "bin_end": 1,
            "count": 1
           }
          ]
         }
        },
        {
         "name": "_deepnote_index_column",
         "dtype": "object"
        }
       ],
       "rows_top": [
        {
         "preg": 1,
         "plas": 0.12945867149927248,
         "pres": 0.14128197740713966,
         "skin": -0.08167177444900726,
         "test": -0.07353461435162822,
         "mass": 0.017683090727830565,
         "pedi": -0.03352267296261304,
         "age": 0.5443412284023392,
         "class": 0.22189815303398636,
         "_deepnote_index_column": "preg"
        },
        {
         "preg": 0.12945867149927248,
         "plas": 1,
         "pres": 0.1525895865686646,
         "skin": 0.05732789073817692,
         "test": 0.3313571099202092,
         "mass": 0.2210710694589828,
         "pedi": 0.13733729982837092,
         "age": 0.26351431982433343,
         "class": 0.46658139830687373,
         "_deepnote_index_column": "plas"
        },
        {
         "preg": 0.14128197740713966,
         "plas": 0.1525895865686646,
         "pres": 1,
         "skin": 0.2073705384030709,
         "test": 0.08893337837319314,
         "mass": 0.2818052888499109,
         "pedi": 0.04126494793009856,
         "age": 0.23952794642136344,
         "class": 0.06506835955033277,
         "_deepnote_index_column": "pres"
        },
        {
         "preg": -0.08167177444900726,
         "plas": 0.05732789073817692,
         "pres": 0.2073705384030709,
         "skin": 1,
         "test": 0.43678257012001326,
         "mass": 0.39257320415903835,
         "pedi": 0.1839275729541631,
         "age": -0.11397026236774152,
         "class": 0.07475223191831946,
         "_deepnote_index_column": "skin"
        },
        {
         "preg": -0.07353461435162822,
         "plas": 0.3313571099202092,
         "pres": 0.08893337837319314,
         "skin": 0.43678257012001326,
         "test": 1,
         "mass": 0.19785905649310145,
         "pedi": 0.1850709291680993,
         "age": -0.04216295473537695,
         "class": 0.13054795488404794,
         "_deepnote_index_column": "test"
        },
        {
         "preg": 0.017683090727830565,
         "plas": 0.2210710694589828,
         "pres": 0.2818052888499109,
         "skin": 0.39257320415903835,
         "test": 0.19785905649310145,
         "mass": 1,
         "pedi": 0.14064695254510523,
         "age": 0.03624187009229395,
         "class": 0.2926946626444454,
         "_deepnote_index_column": "mass"
        },
        {
         "preg": -0.03352267296261304,
         "plas": 0.13733729982837092,
         "pres": 0.04126494793009856,
         "skin": 0.1839275729541631,
         "test": 0.1850709291680993,
         "mass": 0.14064695254510523,
         "pedi": 1,
         "age": 0.03356131243480539,
         "class": 0.17384406565296004,
         "_deepnote_index_column": "pedi"
        },
        {
         "preg": 0.5443412284023392,
         "plas": 0.26351431982433343,
         "pres": 0.23952794642136344,
         "skin": -0.11397026236774152,
         "test": -0.04216295473537695,
         "mass": 0.03624187009229395,
         "pedi": 0.03356131243480539,
         "age": 1,
         "class": 0.23835598302719757,
         "_deepnote_index_column": "age"
        },
        {
         "preg": 0.22189815303398636,
         "plas": 0.46658139830687373,
         "pres": 0.06506835955033277,
         "skin": 0.07475223191831946,
         "test": 0.13054795488404794,
         "mass": 0.2926946626444454,
         "pedi": 0.17384406565296004,
         "age": 0.23835598302719757,
         "class": 1,
         "_deepnote_index_column": "class"
        }
       ],
       "rows_bottom": null
      },
      "text/plain": "           preg      plas      pres      skin      test      mass      pedi  \\\npreg   1.000000  0.129459  0.141282 -0.081672 -0.073535  0.017683 -0.033523   \nplas   0.129459  1.000000  0.152590  0.057328  0.331357  0.221071  0.137337   \npres   0.141282  0.152590  1.000000  0.207371  0.088933  0.281805  0.041265   \nskin  -0.081672  0.057328  0.207371  1.000000  0.436783  0.392573  0.183928   \ntest  -0.073535  0.331357  0.088933  0.436783  1.000000  0.197859  0.185071   \nmass   0.017683  0.221071  0.281805  0.392573  0.197859  1.000000  0.140647   \npedi  -0.033523  0.137337  0.041265  0.183928  0.185071  0.140647  1.000000   \nage    0.544341  0.263514  0.239528 -0.113970 -0.042163  0.036242  0.033561   \nclass  0.221898  0.466581  0.065068  0.074752  0.130548  0.292695  0.173844   \n\n            age     class  \npreg   0.544341  0.221898  \nplas   0.263514  0.466581  \npres   0.239528  0.065068  \nskin  -0.113970  0.074752  \ntest  -0.042163  0.130548  \nmass   0.036242  0.292695  \npedi   0.033561  0.173844  \nage    1.000000  0.238356  \nclass  0.238356  1.000000  ",
      "text/html": "<div>\n<style scoped>\n    .dataframe tbody tr th:only-of-type {\n        vertical-align: middle;\n    }\n\n    .dataframe tbody tr th {\n        vertical-align: top;\n    }\n\n    .dataframe thead th {\n        text-align: right;\n    }\n</style>\n<table border=\"1\" class=\"dataframe\">\n  <thead>\n    <tr style=\"text-align: right;\">\n      <th></th>\n      <th>preg</th>\n      <th>plas</th>\n      <th>pres</th>\n      <th>skin</th>\n      <th>test</th>\n      <th>mass</th>\n      <th>pedi</th>\n      <th>age</th>\n      <th>class</th>\n    </tr>\n  </thead>\n  <tbody>\n    <tr>\n      <th>preg</th>\n      <td>1.000000</td>\n      <td>0.129459</td>\n      <td>0.141282</td>\n      <td>-0.081672</td>\n      <td>-0.073535</td>\n      <td>0.017683</td>\n      <td>-0.033523</td>\n      <td>0.544341</td>\n      <td>0.221898</td>\n    </tr>\n    <tr>\n      <th>plas</th>\n      <td>0.129459</td>\n      <td>1.000000</td>\n      <td>0.152590</td>\n      <td>0.057328</td>\n      <td>0.331357</td>\n      <td>0.221071</td>\n      <td>0.137337</td>\n      <td>0.263514</td>\n      <td>0.466581</td>\n    </tr>\n    <tr>\n      <th>pres</th>\n      <td>0.141282</td>\n      <td>0.152590</td>\n      <td>1.000000</td>\n      <td>0.207371</td>\n      <td>0.088933</td>\n      <td>0.281805</td>\n      <td>0.041265</td>\n      <td>0.239528</td>\n      <td>0.065068</td>\n    </tr>\n    <tr>\n      <th>skin</th>\n      <td>-0.081672</td>\n      <td>0.057328</td>\n      <td>0.207371</td>\n      <td>1.000000</td>\n      <td>0.436783</td>\n      <td>0.392573</td>\n      <td>0.183928</td>\n      <td>-0.113970</td>\n      <td>0.074752</td>\n    </tr>\n    <tr>\n      <th>test</th>\n      <td>-0.073535</td>\n      <td>0.331357</td>\n      <td>0.088933</td>\n      <td>0.436783</td>\n      <td>1.000000</td>\n      <td>0.197859</td>\n      <td>0.185071</td>\n      <td>-0.042163</td>\n      <td>0.130548</td>\n    </tr>\n    <tr>\n      <th>mass</th>\n      <td>0.017683</td>\n      <td>0.221071</td>\n      <td>0.281805</td>\n      <td>0.392573</td>\n      <td>0.197859</td>\n      <td>1.000000</td>\n      <td>0.140647</td>\n      <td>0.036242</td>\n      <td>0.292695</td>\n    </tr>\n    <tr>\n      <th>pedi</th>\n      <td>-0.033523</td>\n      <td>0.137337</td>\n      <td>0.041265</td>\n      <td>0.183928</td>\n      <td>0.185071</td>\n      <td>0.140647</td>\n      <td>1.000000</td>\n      <td>0.033561</td>\n      <td>0.173844</td>\n    </tr>\n    <tr>\n      <th>age</th>\n      <td>0.544341</td>\n      <td>0.263514</td>\n      <td>0.239528</td>\n      <td>-0.113970</td>\n      <td>-0.042163</td>\n      <td>0.036242</td>\n      <td>0.033561</td>\n      <td>1.000000</td>\n      <td>0.238356</td>\n    </tr>\n    <tr>\n      <th>class</th>\n      <td>0.221898</td>\n      <td>0.466581</td>\n      <td>0.065068</td>\n      <td>0.074752</td>\n      <td>0.130548</td>\n      <td>0.292695</td>\n      <td>0.173844</td>\n      <td>0.238356</td>\n      <td>1.000000</td>\n    </tr>\n  </tbody>\n</table>\n</div>"
     },
     "metadata": {}
    }
   ],
   "execution_count": null
  },
  {
   "cell_type": "markdown",
   "source": "What column has the highest correlation with class? Find the mean() value of that column",
   "metadata": {
    "colab_type": "text",
    "id": "P_7xRF11h4Uf",
    "cell_id": "00016-c6dc3dd2-3401-45f6-82f1-9b8d3db94077",
    "deepnote_cell_type": "markdown"
   }
  },
  {
   "cell_type": "code",
   "metadata": {
    "colab_type": "code",
    "id": "clb2Gh8Mn9d4",
    "colab": {},
    "cell_id": "00017-b1dcf134-97de-42fa-ac10-96fe97db8e2c",
    "deepnote_to_be_reexecuted": false,
    "source_hash": "834ad34f",
    "execution_start": 1625600178316,
    "execution_millis": 6,
    "deepnote_cell_type": "code"
   },
   "source": "# YOUR CODE HERE\nmean = data['skin'].mean()\n",
   "outputs": [],
   "execution_count": null
  },
  {
   "cell_type": "markdown",
   "source": "Create a new dataframe with only people that are above the mean found in the above cell.",
   "metadata": {
    "colab_type": "text",
    "id": "64yWhAARoWw-",
    "cell_id": "00018-fd63fcb2-c10a-4a26-b428-e30348fe833a",
    "deepnote_cell_type": "markdown"
   }
  },
  {
   "cell_type": "code",
   "metadata": {
    "colab_type": "code",
    "id": "HRLjs3agkdPY",
    "colab": {},
    "cell_id": "00019-8b938a90-7bd5-4ba2-92f1-4df4ffc190e0",
    "deepnote_to_be_reexecuted": false,
    "source_hash": "97767e06",
    "execution_start": 1625600178328,
    "execution_millis": 201,
    "deepnote_cell_type": "code"
   },
   "source": "# YOUR CODE HERE\nmean = data['skin'].mean()\nskin = data\nfor i in range (0,768):\n    if data.loc[i,'skin'] <= mean:\n        skin = skin.drop(i, axis = 0)\nskin.describe",
   "outputs": [
    {
     "output_type": "execute_result",
     "execution_count": 24,
     "data": {
      "text/plain": "<bound method NDFrame.describe of      preg  plas  pres  skin  test  mass   pedi  age  class\n0       6   148    72    35     0  33.6  0.627   50      1\n1       1    85    66    29     0  26.6  0.351   31      0\n3       1    89    66    23    94  28.1  0.167   21      0\n4       0   137    40    35   168  43.1  2.288   33      1\n6       3    78    50    32    88  31.0  0.248   26      1\n..    ...   ...   ...   ...   ...   ...    ...  ...    ...\n761     9   170    74    31     0  44.0  0.403   43      1\n763    10   101    76    48   180  32.9  0.171   63      0\n764     2   122    70    27     0  36.8  0.340   27      0\n765     5   121    72    23   112  26.2  0.245   30      0\n767     1    93    70    31     0  30.4  0.315   23      0\n\n[417 rows x 9 columns]>"
     },
     "metadata": {}
    }
   ],
   "execution_count": null
  },
  {
   "cell_type": "markdown",
   "source": "Create a new dataframe that only includes people who are above the average value for each column in the dataset. In other words, find the average value for each column, and then find which users have values above all of these average column values.",
   "metadata": {
    "colab_type": "text",
    "id": "RxGIQp0JrUnq",
    "cell_id": "00020-d5d0c3ea-9655-4aa2-97dd-4bf3a09e357f",
    "deepnote_cell_type": "markdown"
   }
  },
  {
   "cell_type": "code",
   "metadata": {
    "colab_type": "code",
    "id": "Ylf4p6NNrfME",
    "colab": {},
    "cell_id": "00021-064e8e41-d624-434c-a65a-392e463c840e",
    "deepnote_to_be_reexecuted": false,
    "source_hash": "7974a3db",
    "execution_start": 1625600178578,
    "execution_millis": 581,
    "deepnote_cell_type": "code"
   },
   "source": "# YOUR CODE HERE\nmeans = data.mean()\nnewdata = data\nfor i in range(data.shape[0]):\n    flag = True\n    for j in range(data.shape[1]):\n        if float(data.loc[i, names[j]]) < means[j]:\n            flag = False\n    if flag == False:\n        newdata = newdata.drop(i, axis = 0)\nnewdata.describe()",
   "outputs": [
    {
     "output_type": "execute_result",
     "execution_count": 25,
     "data": {
      "application/vnd.deepnote.dataframe.v2+json": {
       "row_count": 8,
       "column_count": 9,
       "columns": [
        {
         "name": "preg",
         "dtype": "float64",
         "stats": {
          "unique_count": 8,
          "nan_count": 0,
          "min": "2.825479310370779",
          "max": "17.0",
          "histogram": [
           {
            "bin_start": 2.825479310370779,
            "bin_end": 4.242931379333701,
            "count": 1
           },
           {
            "bin_start": 4.242931379333701,
            "bin_end": 5.660383448296622,
            "count": 1
           },
           {
            "bin_start": 5.660383448296622,
            "bin_end": 7.077835517259546,
            "count": 0
           },
           {
            "bin_start": 7.077835517259546,
            "bin_end": 8.495287586222467,
            "count": 1
           },
           {
            "bin_start": 8.495287586222467,
            "bin_end": 9.912739655185389,
            "count": 2
           },
           {
            "bin_start": 9.912739655185389,
            "bin_end": 11.330191724148312,
            "count": 1
           },
           {
            "bin_start": 11.330191724148312,
            "bin_end": 12.747643793111234,
            "count": 0
           },
           {
            "bin_start": 12.747643793111234,
            "bin_end": 14.165095862074155,
            "count": 0
           },
           {
            "bin_start": 14.165095862074155,
            "bin_end": 15.582547931037077,
            "count": 0
           },
           {
            "bin_start": 15.582547931037077,
            "bin_end": 17,
            "count": 2
           }
          ]
         }
        },
        {
         "name": "plas",
         "dtype": "float64",
         "stats": {
          "unique_count": 8,
          "nan_count": 0,
          "min": "16.0",
          "max": "196.0",
          "histogram": [
           {
            "bin_start": 16,
            "bin_end": 34,
            "count": 2
           },
           {
            "bin_start": 34,
            "bin_end": 52,
            "count": 0
           },
           {
            "bin_start": 52,
            "bin_end": 70,
            "count": 0
           },
           {
            "bin_start": 70,
            "bin_end": 88,
            "count": 0
           },
           {
            "bin_start": 88,
            "bin_end": 106,
            "count": 0
           },
           {
            "bin_start": 106,
            "bin_end": 124,
            "count": 0
           },
           {
            "bin_start": 124,
            "bin_end": 142,
            "count": 1
           },
           {
            "bin_start": 142,
            "bin_end": 160,
            "count": 2
           },
           {
            "bin_start": 160,
            "bin_end": 178,
            "count": 2
           },
           {
            "bin_start": 178,
            "bin_end": 196,
            "count": 1
           }
          ]
         }
        },
        {
         "name": "pres",
         "dtype": "float64",
         "stats": {
          "unique_count": 8,
          "nan_count": 0,
          "min": "9.5",
          "max": "110.0",
          "histogram": [
           {
            "bin_start": 9.5,
            "bin_end": 19.55,
            "count": 2
           },
           {
            "bin_start": 19.55,
            "bin_end": 29.6,
            "count": 0
           },
           {
            "bin_start": 29.6,
            "bin_end": 39.650000000000006,
            "count": 0
           },
           {
            "bin_start": 39.650000000000006,
            "bin_end": 49.7,
            "count": 0
           },
           {
            "bin_start": 49.7,
            "bin_end": 59.75,
            "count": 0
           },
           {
            "bin_start": 59.75,
            "bin_end": 69.80000000000001,
            "count": 0
           },
           {
            "bin_start": 69.80000000000001,
            "bin_end": 79.85000000000001,
            "count": 3
           },
           {
            "bin_start": 79.85000000000001,
            "bin_end": 89.9,
            "count": 2
           },
           {
            "bin_start": 89.9,
            "bin_end": 99.95,
            "count": 0
           },
           {
            "bin_start": 99.95,
            "bin_end": 110,
            "count": 1
           }
          ]
         }
        },
        {
         "name": "skin",
         "dtype": "float64",
         "stats": {
          "unique_count": 8,
          "nan_count": 0,
          "min": "8.724486613358213",
          "max": "48.0",
          "histogram": [
           {
            "bin_start": 8.724486613358213,
            "bin_end": 12.652037952022392,
            "count": 1
           },
           {
            "bin_start": 12.652037952022392,
            "bin_end": 16.57958929068657,
            "count": 1
           },
           {
            "bin_start": 16.57958929068657,
            "bin_end": 20.50714062935075,
            "count": 0
           },
           {
            "bin_start": 20.50714062935075,
            "bin_end": 24.43469196801493,
            "count": 1
           },
           {
            "bin_start": 24.43469196801493,
            "bin_end": 28.362243306679108,
            "count": 1
           },
           {
            "bin_start": 28.362243306679108,
            "bin_end": 32.28979464534329,
            "count": 1
           },
           {
            "bin_start": 32.28979464534329,
            "bin_end": 36.217345984007466,
            "count": 1
           },
           {
            "bin_start": 36.217345984007466,
            "bin_end": 40.144897322671646,
            "count": 0
           },
           {
            "bin_start": 40.144897322671646,
            "bin_end": 44.07244866133583,
            "count": 1
           },
           {
            "bin_start": 44.07244866133583,
            "bin_end": 48,
            "count": 1
           }
          ]
         }
        },
        {
         "name": "test",
         "dtype": "float64",
         "stats": {
          "unique_count": 8,
          "nan_count": 0,
          "min": "16.0",
          "max": "325.0",
          "histogram": [
           {
            "bin_start": 16,
            "bin_end": 46.9,
            "count": 1
           },
           {
            "bin_start": 46.9,
            "bin_end": 77.8,
            "count": 1
           },
           {
            "bin_start": 77.8,
            "bin_end": 108.69999999999999,
            "count": 0
           },
           {
            "bin_start": 108.69999999999999,
            "bin_end": 139.6,
            "count": 1
           },
           {
            "bin_start": 139.6,
            "bin_end": 170.5,
            "count": 1
           },
           {
            "bin_start": 170.5,
            "bin_end": 201.39999999999998,
            "count": 1
           },
           {
            "bin_start": 201.39999999999998,
            "bin_end": 232.29999999999998,
            "count": 1
           },
           {
            "bin_start": 232.29999999999998,
            "bin_end": 263.2,
            "count": 1
           },
           {
            "bin_start": 263.2,
            "bin_end": 294.09999999999997,
            "count": 0
           },
           {
            "bin_start": 294.09999999999997,
            "bin_end": 325,
            "count": 1
           }
          ]
         }
        },
        {
         "name": "mass",
         "dtype": "float64",
         "stats": {
          "unique_count": 8,
          "nan_count": 0,
          "min": "3.7713337605326487",
          "max": "45.4",
          "histogram": [
           {
            "bin_start": 3.7713337605326487,
            "bin_end": 7.934200384479384,
            "count": 1
           },
           {
            "bin_start": 7.934200384479384,
            "bin_end": 12.09706700842612,
            "count": 0
           },
           {
            "bin_start": 12.09706700842612,
            "bin_end": 16.259933632372856,
            "count": 1
           },
           {
            "bin_start": 16.259933632372856,
            "bin_end": 20.42280025631959,
            "count": 0
           },
           {
            "bin_start": 20.42280025631959,
            "bin_end": 24.585666880266324,
            "count": 0
           },
           {
            "bin_start": 24.585666880266324,
            "bin_end": 28.74853350421306,
            "count": 0
           },
           {
            "bin_start": 28.74853350421306,
            "bin_end": 32.9114001281598,
            "count": 1
           },
           {
            "bin_start": 32.9114001281598,
            "bin_end": 37.07426675210653,
            "count": 1
           },
           {
            "bin_start": 37.07426675210653,
            "bin_end": 41.237133376053265,
            "count": 3
           },
           {
            "bin_start": 41.237133376053265,
            "bin_end": 45.4,
            "count": 1
           }
          ]
         }
        },
        {
         "name": "pedi",
         "dtype": "float64",
         "stats": {
          "unique_count": 8,
          "nan_count": 0,
          "min": "0.2447329156447902",
          "max": "16.0",
          "histogram": [
           {
            "bin_start": 0.2447329156447902,
            "bin_end": 1.820259624080311,
            "count": 7
           },
           {
            "bin_start": 1.820259624080311,
            "bin_end": 3.395786332515832,
            "count": 0
           },
           {
            "bin_start": 3.395786332515832,
            "bin_end": 4.971313040951353,
            "count": 0
           },
           {
            "bin_start": 4.971313040951353,
            "bin_end": 6.546839749386874,
            "count": 0
           },
           {
            "bin_start": 6.546839749386874,
            "bin_end": 8.122366457822395,
            "count": 0
           },
           {
            "bin_start": 8.122366457822395,
            "bin_end": 9.697893166257916,
            "count": 0
           },
           {
            "bin_start": 9.697893166257916,
            "bin_end": 11.273419874693436,
            "count": 0
           },
           {
            "bin_start": 11.273419874693436,
            "bin_end": 12.848946583128958,
            "count": 0
           },
           {
            "bin_start": 12.848946583128958,
            "bin_end": 14.42447329156448,
            "count": 0
           },
           {
            "bin_start": 14.42447329156448,
            "bin_end": 16,
            "count": 1
           }
          ]
         }
        },
        {
         "name": "age",
         "dtype": "float64",
         "stats": {
          "unique_count": 8,
          "nan_count": 0,
          "min": "7.553145040312677",
          "max": "58.0",
          "histogram": [
           {
            "bin_start": 7.553145040312677,
            "bin_end": 12.59783053628141,
            "count": 1
           },
           {
            "bin_start": 12.59783053628141,
            "bin_end": 17.642516032250143,
            "count": 1
           },
           {
            "bin_start": 17.642516032250143,
            "bin_end": 22.687201528218875,
            "count": 0
           },
           {
            "bin_start": 22.687201528218875,
            "bin_end": 27.731887024187607,
            "count": 0
           },
           {
            "bin_start": 27.731887024187607,
            "bin_end": 32.776572520156336,
            "count": 0
           },
           {
            "bin_start": 32.776572520156336,
            "bin_end": 37.82125801612507,
            "count": 1
           },
           {
            "bin_start": 37.82125801612507,
            "bin_end": 42.8659435120938,
            "count": 1
           },
           {
            "bin_start": 42.8659435120938,
            "bin_end": 47.910629008062536,
            "count": 1
           },
           {
            "bin_start": 47.910629008062536,
            "bin_end": 52.95531450403127,
            "count": 1
           },
           {
            "bin_start": 52.95531450403127,
            "bin_end": 58,
            "count": 2
           }
          ]
         }
        },
        {
         "name": "class",
         "dtype": "float64",
         "stats": {
          "unique_count": 3,
          "nan_count": 0,
          "min": "0.0",
          "max": "16.0",
          "histogram": [
           {
            "bin_start": 0,
            "bin_end": 1.6,
            "count": 7
           },
           {
            "bin_start": 1.6,
            "bin_end": 3.2,
            "count": 0
           },
           {
            "bin_start": 3.2,
            "bin_end": 4.800000000000001,
            "count": 0
           },
           {
            "bin_start": 4.800000000000001,
            "bin_end": 6.4,
            "count": 0
           },
           {
            "bin_start": 6.4,
            "bin_end": 8,
            "count": 0
           },
           {
            "bin_start": 8,
            "bin_end": 9.600000000000001,
            "count": 0
           },
           {
            "bin_start": 9.600000000000001,
            "bin_end": 11.200000000000001,
            "count": 0
           },
           {
            "bin_start": 11.200000000000001,
            "bin_end": 12.8,
            "count": 0
           },
           {
            "bin_start": 12.8,
            "bin_end": 14.4,
            "count": 0
           },
           {
            "bin_start": 14.4,
            "bin_end": 16,
            "count": 1
           }
          ]
         }
        },
        {
         "name": "_deepnote_index_column",
         "dtype": "object"
        }
       ],
       "rows_top": [
        {
         "preg": 16,
         "plas": 16,
         "pres": 16,
         "skin": 16,
         "test": 16,
         "mass": 16,
         "pedi": 16,
         "age": 16,
         "class": 16,
         "_deepnote_index_column": "count"
        },
        {
         "preg": 9.375,
         "plas": 161.1875,
         "pres": 80.375,
         "skin": 34.125,
         "test": 202,
         "mass": 38.28125,
         "pedi": 0.78025,
         "age": 47.375,
         "class": 1,
         "_deepnote_index_column": "mean"
        },
        {
         "preg": 2.825479310370779,
         "plas": 17.42495815394306,
         "pres": 9.5,
         "skin": 8.724486613358213,
         "test": 70.78512084706314,
         "mass": 3.7713337605326487,
         "pedi": 0.2447329156447902,
         "age": 7.553145040312677,
         "class": 0,
         "_deepnote_index_column": "std"
        },
        {
         "preg": 5,
         "plas": 138,
         "pres": 70,
         "skin": 21,
         "test": 114,
         "mass": 32.7,
         "pedi": 0.516,
         "age": 36,
         "class": 1,
         "_deepnote_index_column": "min"
        },
        {
         "preg": 7.75,
         "plas": 149.5,
         "pres": 75.5,
         "skin": 27.75,
         "test": 140.5,
         "mass": 35.724999999999994,
         "pedi": 0.60025,
         "age": 40,
         "class": 1,
         "_deepnote_index_column": "25%"
        },
        {
         "preg": 9,
         "plas": 155.5,
         "pres": 78,
         "skin": 30.5,
         "test": 199.5,
         "mass": 37.75,
         "pedi": 0.72,
         "age": 50.5,
         "class": 1,
         "_deepnote_index_column": "50%"
        },
        {
         "preg": 11,
         "plas": 173,
         "pres": 84,
         "skin": 42,
         "test": 247.75,
         "mass": 41.125,
         "pedi": 0.8629999999999999,
         "age": 53.25,
         "class": 1,
         "_deepnote_index_column": "75%"
        },
        {
         "preg": 17,
         "plas": 196,
         "pres": 110,
         "skin": 48,
         "test": 325,
         "mass": 45.4,
         "pedi": 1.353,
         "age": 58,
         "class": 1,
         "_deepnote_index_column": "max"
        }
       ],
       "rows_bottom": null
      },
      "text/plain": "            preg        plas     pres       skin        test       mass  \\\ncount  16.000000   16.000000   16.000  16.000000   16.000000  16.000000   \nmean    9.375000  161.187500   80.375  34.125000  202.000000  38.281250   \nstd     2.825479   17.424958    9.500   8.724487   70.785121   3.771334   \nmin     5.000000  138.000000   70.000  21.000000  114.000000  32.700000   \n25%     7.750000  149.500000   75.500  27.750000  140.500000  35.725000   \n50%     9.000000  155.500000   78.000  30.500000  199.500000  37.750000   \n75%    11.000000  173.000000   84.000  42.000000  247.750000  41.125000   \nmax    17.000000  196.000000  110.000  48.000000  325.000000  45.400000   \n\n            pedi        age  class  \ncount  16.000000  16.000000   16.0  \nmean    0.780250  47.375000    1.0  \nstd     0.244733   7.553145    0.0  \nmin     0.516000  36.000000    1.0  \n25%     0.600250  40.000000    1.0  \n50%     0.720000  50.500000    1.0  \n75%     0.863000  53.250000    1.0  \nmax     1.353000  58.000000    1.0  ",
      "text/html": "<div>\n<style scoped>\n    .dataframe tbody tr th:only-of-type {\n        vertical-align: middle;\n    }\n\n    .dataframe tbody tr th {\n        vertical-align: top;\n    }\n\n    .dataframe thead th {\n        text-align: right;\n    }\n</style>\n<table border=\"1\" class=\"dataframe\">\n  <thead>\n    <tr style=\"text-align: right;\">\n      <th></th>\n      <th>preg</th>\n      <th>plas</th>\n      <th>pres</th>\n      <th>skin</th>\n      <th>test</th>\n      <th>mass</th>\n      <th>pedi</th>\n      <th>age</th>\n      <th>class</th>\n    </tr>\n  </thead>\n  <tbody>\n    <tr>\n      <th>count</th>\n      <td>16.000000</td>\n      <td>16.000000</td>\n      <td>16.000</td>\n      <td>16.000000</td>\n      <td>16.000000</td>\n      <td>16.000000</td>\n      <td>16.000000</td>\n      <td>16.000000</td>\n      <td>16.0</td>\n    </tr>\n    <tr>\n      <th>mean</th>\n      <td>9.375000</td>\n      <td>161.187500</td>\n      <td>80.375</td>\n      <td>34.125000</td>\n      <td>202.000000</td>\n      <td>38.281250</td>\n      <td>0.780250</td>\n      <td>47.375000</td>\n      <td>1.0</td>\n    </tr>\n    <tr>\n      <th>std</th>\n      <td>2.825479</td>\n      <td>17.424958</td>\n      <td>9.500</td>\n      <td>8.724487</td>\n      <td>70.785121</td>\n      <td>3.771334</td>\n      <td>0.244733</td>\n      <td>7.553145</td>\n      <td>0.0</td>\n    </tr>\n    <tr>\n      <th>min</th>\n      <td>5.000000</td>\n      <td>138.000000</td>\n      <td>70.000</td>\n      <td>21.000000</td>\n      <td>114.000000</td>\n      <td>32.700000</td>\n      <td>0.516000</td>\n      <td>36.000000</td>\n      <td>1.0</td>\n    </tr>\n    <tr>\n      <th>25%</th>\n      <td>7.750000</td>\n      <td>149.500000</td>\n      <td>75.500</td>\n      <td>27.750000</td>\n      <td>140.500000</td>\n      <td>35.725000</td>\n      <td>0.600250</td>\n      <td>40.000000</td>\n      <td>1.0</td>\n    </tr>\n    <tr>\n      <th>50%</th>\n      <td>9.000000</td>\n      <td>155.500000</td>\n      <td>78.000</td>\n      <td>30.500000</td>\n      <td>199.500000</td>\n      <td>37.750000</td>\n      <td>0.720000</td>\n      <td>50.500000</td>\n      <td>1.0</td>\n    </tr>\n    <tr>\n      <th>75%</th>\n      <td>11.000000</td>\n      <td>173.000000</td>\n      <td>84.000</td>\n      <td>42.000000</td>\n      <td>247.750000</td>\n      <td>41.125000</td>\n      <td>0.863000</td>\n      <td>53.250000</td>\n      <td>1.0</td>\n    </tr>\n    <tr>\n      <th>max</th>\n      <td>17.000000</td>\n      <td>196.000000</td>\n      <td>110.000</td>\n      <td>48.000000</td>\n      <td>325.000000</td>\n      <td>45.400000</td>\n      <td>1.353000</td>\n      <td>58.000000</td>\n      <td>1.0</td>\n    </tr>\n  </tbody>\n</table>\n</div>"
     },
     "metadata": {}
    }
   ],
   "execution_count": null
  },
  {
   "cell_type": "markdown",
   "source": "*Note: the next 3 problems were not explicitly shown in our tutorial—being able to effectively google and look through documentation is a very important coding tool!* ¯\\\\\\_(ツ)_/¯",
   "metadata": {
    "id": "Cy_6ce7_8qAB",
    "colab_type": "text",
    "cell_id": "00022-a1b28b03-6953-469c-a45d-80d21b3d36f6",
    "deepnote_cell_type": "markdown"
   }
  },
  {
   "cell_type": "markdown",
   "source": "Ignoring the index (resetting the index to 0) and using the dataframe from the cell above, sort the values based on `\"skin\"`, `\"test\"`, and `\"pedi\"` values in ascending order. Please write this in one line.",
   "metadata": {
    "colab_type": "text",
    "id": "24pCgP2xbCwZ",
    "cell_id": "00023-818ed759-16d8-4469-8fcb-19c412faa4c9",
    "deepnote_cell_type": "markdown"
   }
  },
  {
   "cell_type": "code",
   "metadata": {
    "colab_type": "code",
    "id": "wXZysbVwa7i5",
    "colab": {},
    "cell_id": "00024-1c8fa3ef-1628-44ef-bef7-554c548fea45",
    "deepnote_to_be_reexecuted": false,
    "source_hash": "8b7bc61d",
    "execution_start": 1625600179208,
    "execution_millis": 10,
    "deepnote_cell_type": "code"
   },
   "source": "# YOUR CODE HERE\nnewdata.sort_values(by='skin', ascending = True)\nnewdata.sort_values(by='test', ascending = True)\nnewdata.sort_values(by='pedi', ascending = True)",
   "outputs": [
    {
     "output_type": "execute_result",
     "execution_count": 26,
     "data": {
      "application/vnd.deepnote.dataframe.v2+json": {
       "row_count": 16,
       "column_count": 9,
       "columns": [
        {
         "name": "preg",
         "dtype": "int64",
         "stats": {
          "unique_count": 8,
          "nan_count": 0,
          "min": "5",
          "max": "17",
          "histogram": [
           {
            "bin_start": 5,
            "bin_end": 6.2,
            "count": 1
           },
           {
            "bin_start": 6.2,
            "bin_end": 7.4,
            "count": 3
           },
           {
            "bin_start": 7.4,
            "bin_end": 8.6,
            "count": 3
           },
           {
            "bin_start": 8.6,
            "bin_end": 9.8,
            "count": 3
           },
           {
            "bin_start": 9.8,
            "bin_end": 11,
            "count": 1
           },
           {
            "bin_start": 11,
            "bin_end": 12.2,
            "count": 4
           },
           {
            "bin_start": 12.2,
            "bin_end": 13.4,
            "count": 0
           },
           {
            "bin_start": 13.4,
            "bin_end": 14.6,
            "count": 0
           },
           {
            "bin_start": 14.6,
            "bin_end": 15.799999999999999,
            "count": 0
           },
           {
            "bin_start": 15.799999999999999,
            "bin_end": 17,
            "count": 1
           }
          ]
         }
        },
        {
         "name": "plas",
         "dtype": "int64",
         "stats": {
          "unique_count": 15,
          "nan_count": 0,
          "min": "138",
          "max": "196",
          "histogram": [
           {
            "bin_start": 138,
            "bin_end": 143.8,
            "count": 2
           },
           {
            "bin_start": 143.8,
            "bin_end": 149.6,
            "count": 2
           },
           {
            "bin_start": 149.6,
            "bin_end": 155.4,
            "count": 4
           },
           {
            "bin_start": 155.4,
            "bin_end": 161.2,
            "count": 1
           },
           {
            "bin_start": 161.2,
            "bin_end": 167,
            "count": 1
           },
           {
            "bin_start": 167,
            "bin_end": 172.8,
            "count": 2
           },
           {
            "bin_start": 172.8,
            "bin_end": 178.6,
            "count": 0
           },
           {
            "bin_start": 178.6,
            "bin_end": 184.4,
            "count": 2
           },
           {
            "bin_start": 184.4,
            "bin_end": 190.2,
            "count": 1
           },
           {
            "bin_start": 190.2,
            "bin_end": 196,
            "count": 1
           }
          ]
         }
        },
        {
         "name": "pres",
         "dtype": "int64",
         "stats": {
          "unique_count": 11,
          "nan_count": 0,
          "min": "70",
          "max": "110",
          "histogram": [
           {
            "bin_start": 70,
            "bin_end": 74,
            "count": 3
           },
           {
            "bin_start": 74,
            "bin_end": 78,
            "count": 4
           },
           {
            "bin_start": 78,
            "bin_end": 82,
            "count": 3
           },
           {
            "bin_start": 82,
            "bin_end": 86,
            "count": 3
           },
           {
            "bin_start": 86,
            "bin_end": 90,
            "count": 2
           },
           {
            "bin_start": 90,
            "bin_end": 94,
            "count": 0
           },
           {
            "bin_start": 94,
            "bin_end": 98,
            "count": 0
           },
           {
            "bin_start": 98,
            "bin_end": 102,
            "count": 0
           },
           {
            "bin_start": 102,
            "bin_end": 106,
            "count": 0
           },
           {
            "bin_start": 106,
            "bin_end": 110,
            "count": 1
           }
          ]
         }
        },
        {
         "name": "skin",
         "dtype": "int64",
         "stats": {
          "unique_count": 13,
          "nan_count": 0,
          "min": "21",
          "max": "48",
          "histogram": [
           {
            "bin_start": 21,
            "bin_end": 23.7,
            "count": 1
           },
           {
            "bin_start": 23.7,
            "bin_end": 26.4,
            "count": 2
           },
           {
            "bin_start": 26.4,
            "bin_end": 29.1,
            "count": 5
           },
           {
            "bin_start": 29.1,
            "bin_end": 31.8,
            "count": 0
           },
           {
            "bin_start": 31.8,
            "bin_end": 34.5,
            "count": 1
           },
           {
            "bin_start": 34.5,
            "bin_end": 37.2,
            "count": 0
           },
           {
            "bin_start": 37.2,
            "bin_end": 39.900000000000006,
            "count": 0
           },
           {
            "bin_start": 39.900000000000006,
            "bin_end": 42.6,
            "count": 4
           },
           {
            "bin_start": 42.6,
            "bin_end": 45.3,
            "count": 1
           },
           {
            "bin_start": 45.3,
            "bin_end": 48,
            "count": 2
           }
          ]
         }
        },
        {
         "name": "test",
         "dtype": "int64",
         "stats": {
          "unique_count": 15,
          "nan_count": 0,
          "min": "114",
          "max": "325",
          "histogram": [
           {
            "bin_start": 114,
            "bin_end": 135.1,
            "count": 4
           },
           {
            "bin_start": 135.1,
            "bin_end": 156.2,
            "count": 3
           },
           {
            "bin_start": 156.2,
            "bin_end": 177.3,
            "count": 0
           },
           {
            "bin_start": 177.3,
            "bin_end": 198.4,
            "count": 1
           },
           {
            "bin_start": 198.4,
            "bin_end": 219.5,
            "count": 2
           },
           {
            "bin_start": 219.5,
            "bin_end": 240.60000000000002,
            "count": 2
           },
           {
            "bin_start": 240.60000000000002,
            "bin_end": 261.70000000000005,
            "count": 0
           },
           {
            "bin_start": 261.70000000000005,
            "bin_end": 282.8,
            "count": 2
           },
           {
            "bin_start": 282.8,
            "bin_end": 303.9,
            "count": 0
           },
           {
            "bin_start": 303.9,
            "bin_end": 325,
            "count": 2
           }
          ]
         }
        },
        {
         "name": "mass",
         "dtype": "float64",
         "stats": {
          "unique_count": 16,
          "nan_count": 0,
          "min": "32.7",
          "max": "45.4",
          "histogram": [
           {
            "bin_start": 32.7,
            "bin_end": 33.97,
            "count": 2
           },
           {
            "bin_start": 33.97,
            "bin_end": 35.24,
            "count": 2
           },
           {
            "bin_start": 35.24,
            "bin_end": 36.510000000000005,
            "count": 2
           },
           {
            "bin_start": 36.510000000000005,
            "bin_end": 37.78,
            "count": 2
           },
           {
            "bin_start": 37.78,
            "bin_end": 39.05,
            "count": 2
           },
           {
            "bin_start": 39.05,
            "bin_end": 40.32,
            "count": 1
           },
           {
            "bin_start": 40.32,
            "bin_end": 41.59,
            "count": 1
           },
           {
            "bin_start": 41.59,
            "bin_end": 42.86,
            "count": 1
           },
           {
            "bin_start": 42.86,
            "bin_end": 44.129999999999995,
            "count": 2
           },
           {
            "bin_start": 44.129999999999995,
            "bin_end": 45.4,
            "count": 1
           }
          ]
         }
        },
        {
         "name": "pedi",
         "dtype": "float64",
         "stats": {
          "unique_count": 16,
          "nan_count": 0,
          "min": "0.516",
          "max": "1.353",
          "histogram": [
           {
            "bin_start": 0.516,
            "bin_end": 0.5997,
            "count": 4
           },
           {
            "bin_start": 0.5997,
            "bin_end": 0.6834,
            "count": 2
           },
           {
            "bin_start": 0.6834,
            "bin_end": 0.7671,
            "count": 4
           },
           {
            "bin_start": 0.7671,
            "bin_end": 0.8508,
            "count": 2
           },
           {
            "bin_start": 0.8508,
            "bin_end": 0.9345,
            "count": 0
           },
           {
            "bin_start": 0.9345,
            "bin_end": 1.0182,
            "count": 1
           },
           {
            "bin_start": 1.0182,
            "bin_end": 1.1019,
            "count": 1
           },
           {
            "bin_start": 1.1019,
            "bin_end": 1.1856,
            "count": 0
           },
           {
            "bin_start": 1.1856,
            "bin_end": 1.2692999999999999,
            "count": 1
           },
           {
            "bin_start": 1.2692999999999999,
            "bin_end": 1.353,
            "count": 1
           }
          ]
         }
        },
        {
         "name": "age",
         "dtype": "int64",
         "stats": {
          "unique_count": 11,
          "nan_count": 0,
          "min": "36",
          "max": "58",
          "histogram": [
           {
            "bin_start": 36,
            "bin_end": 38.2,
            "count": 3
           },
           {
            "bin_start": 38.2,
            "bin_end": 40.4,
            "count": 2
           },
           {
            "bin_start": 40.4,
            "bin_end": 42.6,
            "count": 1
           },
           {
            "bin_start": 42.6,
            "bin_end": 44.8,
            "count": 0
           },
           {
            "bin_start": 44.8,
            "bin_end": 47,
            "count": 0
           },
           {
            "bin_start": 47,
            "bin_end": 49.2,
            "count": 1
           },
           {
            "bin_start": 49.2,
            "bin_end": 51.400000000000006,
            "count": 4
           },
           {
            "bin_start": 51.400000000000006,
            "bin_end": 53.6,
            "count": 1
           },
           {
            "bin_start": 53.6,
            "bin_end": 55.8,
            "count": 2
           },
           {
            "bin_start": 55.8,
            "bin_end": 58,
            "count": 2
           }
          ]
         }
        },
        {
         "name": "class",
         "dtype": "int64",
         "stats": {
          "unique_count": 1,
          "nan_count": 0,
          "min": "1",
          "max": "1",
          "histogram": [
           {
            "bin_start": 0.5,
            "bin_end": 0.6,
            "count": 0
           },
           {
            "bin_start": 0.6,
            "bin_end": 0.7,
            "count": 0
           },
           {
            "bin_start": 0.7,
            "bin_end": 0.8,
            "count": 0
           },
           {
            "bin_start": 0.8,
            "bin_end": 0.9,
            "count": 0
           },
           {
            "bin_start": 0.9,
            "bin_end": 1,
            "count": 0
           },
           {
            "bin_start": 1,
            "bin_end": 1.1,
            "count": 16
           },
           {
            "bin_start": 1.1,
            "bin_end": 1.2000000000000002,
            "count": 0
           },
           {
            "bin_start": 1.2000000000000002,
            "bin_end": 1.3,
            "count": 0
           },
           {
            "bin_start": 1.3,
            "bin_end": 1.4,
            "count": 0
           },
           {
            "bin_start": 1.4,
            "bin_end": 1.5,
            "count": 0
           }
          ]
         }
        },
        {
         "name": "_deepnote_index_column",
         "dtype": "int64"
        }
       ],
       "rows_top": [
        {
         "preg": 8,
         "plas": 151,
         "pres": 78,
         "skin": 32,
         "test": 210,
         "mass": 42.9,
         "pedi": 0.516,
         "age": 36,
         "class": 1,
         "_deepnote_index_column": 424
        },
        {
         "preg": 12,
         "plas": 140,
         "pres": 82,
         "skin": 43,
         "test": 325,
         "mass": 39.2,
         "pedi": 0.528,
         "age": 58,
         "class": 1,
         "_deepnote_index_column": 375
        },
        {
         "preg": 11,
         "plas": 138,
         "pres": 74,
         "skin": 26,
         "test": 144,
         "mass": 36.1,
         "pedi": 0.557,
         "age": 50,
         "class": 1,
         "_deepnote_index_column": 614
        },
        {
         "preg": 7,
         "plas": 181,
         "pres": 84,
         "skin": 21,
         "test": 192,
         "mass": 35.9,
         "pedi": 0.586,
         "age": 51,
         "class": 1,
         "_deepnote_index_column": 236
        },
        {
         "preg": 8,
         "plas": 196,
         "pres": 76,
         "skin": 29,
         "test": 280,
         "mass": 37.5,
         "pedi": 0.605,
         "age": 57,
         "class": 1,
         "_deepnote_index_column": 206
        },
        {
         "preg": 9,
         "plas": 145,
         "pres": 80,
         "skin": 46,
         "test": 130,
         "mass": 37.9,
         "pedi": 0.637,
         "age": 40,
         "class": 1,
         "_deepnote_index_column": 663
        },
        {
         "preg": 7,
         "plas": 150,
         "pres": 78,
         "skin": 29,
         "test": 126,
         "mass": 35.2,
         "pedi": 0.692,
         "age": 54,
         "class": 1,
         "_deepnote_index_column": 603
        },
        {
         "preg": 8,
         "plas": 179,
         "pres": 72,
         "skin": 42,
         "test": 130,
         "mass": 32.7,
         "pedi": 0.719,
         "age": 36,
         "class": 1,
         "_deepnote_index_column": 175
        },
        {
         "preg": 9,
         "plas": 171,
         "pres": 110,
         "skin": 24,
         "test": 240,
         "mass": 45.4,
         "pedi": 0.721,
         "age": 54,
         "class": 1,
         "_deepnote_index_column": 43
        },
        {
         "preg": 12,
         "plas": 151,
         "pres": 70,
         "skin": 40,
         "test": 271,
         "mass": 41.8,
         "pedi": 0.742,
         "age": 38,
         "class": 1,
         "_deepnote_index_column": 215
        },
        {
         "preg": 7,
         "plas": 168,
         "pres": 88,
         "skin": 42,
         "test": 321,
         "mass": 38.2,
         "pedi": 0.787,
         "age": 40,
         "class": 1,
         "_deepnote_index_column": 612
        },
        {
         "preg": 17,
         "plas": 163,
         "pres": 72,
         "skin": 41,
         "test": 114,
         "mass": 40.9,
         "pedi": 0.817,
         "age": 47,
         "class": 1,
         "_deepnote_index_column": 159
        },
        {
         "preg": 10,
         "plas": 148,
         "pres": 84,
         "skin": 48,
         "test": 237,
         "mass": 37.6,
         "pedi": 1.001,
         "age": 51,
         "class": 1,
         "_deepnote_index_column": 458
        },
        {
         "preg": 5,
         "plas": 187,
         "pres": 76,
         "skin": 27,
         "test": 207,
         "mass": 43.6,
         "pedi": 1.034,
         "age": 53,
         "class": 1,
         "_deepnote_index_column": 546
        },
        {
         "preg": 9,
         "plas": 156,
         "pres": 86,
         "skin": 28,
         "test": 155,
         "mass": 34.3,
         "pedi": 1.189,
         "age": 42,
         "class": 1,
         "_deepnote_index_column": 152
        },
        {
         "preg": 11,
         "plas": 155,
         "pres": 76,
         "skin": 28,
         "test": 150,
         "mass": 33.3,
         "pedi": 1.353,
         "age": 51,
         "class": 1,
         "_deepnote_index_column": 259
        }
       ],
       "rows_bottom": null
      },
      "text/plain": "     preg  plas  pres  skin  test  mass   pedi  age  class\n424     8   151    78    32   210  42.9  0.516   36      1\n375    12   140    82    43   325  39.2  0.528   58      1\n614    11   138    74    26   144  36.1  0.557   50      1\n236     7   181    84    21   192  35.9  0.586   51      1\n206     8   196    76    29   280  37.5  0.605   57      1\n663     9   145    80    46   130  37.9  0.637   40      1\n603     7   150    78    29   126  35.2  0.692   54      1\n175     8   179    72    42   130  32.7  0.719   36      1\n43      9   171   110    24   240  45.4  0.721   54      1\n215    12   151    70    40   271  41.8  0.742   38      1\n612     7   168    88    42   321  38.2  0.787   40      1\n159    17   163    72    41   114  40.9  0.817   47      1\n458    10   148    84    48   237  37.6  1.001   51      1\n546     5   187    76    27   207  43.6  1.034   53      1\n152     9   156    86    28   155  34.3  1.189   42      1\n259    11   155    76    28   150  33.3  1.353   51      1",
      "text/html": "<div>\n<style scoped>\n    .dataframe tbody tr th:only-of-type {\n        vertical-align: middle;\n    }\n\n    .dataframe tbody tr th {\n        vertical-align: top;\n    }\n\n    .dataframe thead th {\n        text-align: right;\n    }\n</style>\n<table border=\"1\" class=\"dataframe\">\n  <thead>\n    <tr style=\"text-align: right;\">\n      <th></th>\n      <th>preg</th>\n      <th>plas</th>\n      <th>pres</th>\n      <th>skin</th>\n      <th>test</th>\n      <th>mass</th>\n      <th>pedi</th>\n      <th>age</th>\n      <th>class</th>\n    </tr>\n  </thead>\n  <tbody>\n    <tr>\n      <th>424</th>\n      <td>8</td>\n      <td>151</td>\n      <td>78</td>\n      <td>32</td>\n      <td>210</td>\n      <td>42.9</td>\n      <td>0.516</td>\n      <td>36</td>\n      <td>1</td>\n    </tr>\n    <tr>\n      <th>375</th>\n      <td>12</td>\n      <td>140</td>\n      <td>82</td>\n      <td>43</td>\n      <td>325</td>\n      <td>39.2</td>\n      <td>0.528</td>\n      <td>58</td>\n      <td>1</td>\n    </tr>\n    <tr>\n      <th>614</th>\n      <td>11</td>\n      <td>138</td>\n      <td>74</td>\n      <td>26</td>\n      <td>144</td>\n      <td>36.1</td>\n      <td>0.557</td>\n      <td>50</td>\n      <td>1</td>\n    </tr>\n    <tr>\n      <th>236</th>\n      <td>7</td>\n      <td>181</td>\n      <td>84</td>\n      <td>21</td>\n      <td>192</td>\n      <td>35.9</td>\n      <td>0.586</td>\n      <td>51</td>\n      <td>1</td>\n    </tr>\n    <tr>\n      <th>206</th>\n      <td>8</td>\n      <td>196</td>\n      <td>76</td>\n      <td>29</td>\n      <td>280</td>\n      <td>37.5</td>\n      <td>0.605</td>\n      <td>57</td>\n      <td>1</td>\n    </tr>\n    <tr>\n      <th>663</th>\n      <td>9</td>\n      <td>145</td>\n      <td>80</td>\n      <td>46</td>\n      <td>130</td>\n      <td>37.9</td>\n      <td>0.637</td>\n      <td>40</td>\n      <td>1</td>\n    </tr>\n    <tr>\n      <th>603</th>\n      <td>7</td>\n      <td>150</td>\n      <td>78</td>\n      <td>29</td>\n      <td>126</td>\n      <td>35.2</td>\n      <td>0.692</td>\n      <td>54</td>\n      <td>1</td>\n    </tr>\n    <tr>\n      <th>175</th>\n      <td>8</td>\n      <td>179</td>\n      <td>72</td>\n      <td>42</td>\n      <td>130</td>\n      <td>32.7</td>\n      <td>0.719</td>\n      <td>36</td>\n      <td>1</td>\n    </tr>\n    <tr>\n      <th>43</th>\n      <td>9</td>\n      <td>171</td>\n      <td>110</td>\n      <td>24</td>\n      <td>240</td>\n      <td>45.4</td>\n      <td>0.721</td>\n      <td>54</td>\n      <td>1</td>\n    </tr>\n    <tr>\n      <th>215</th>\n      <td>12</td>\n      <td>151</td>\n      <td>70</td>\n      <td>40</td>\n      <td>271</td>\n      <td>41.8</td>\n      <td>0.742</td>\n      <td>38</td>\n      <td>1</td>\n    </tr>\n    <tr>\n      <th>612</th>\n      <td>7</td>\n      <td>168</td>\n      <td>88</td>\n      <td>42</td>\n      <td>321</td>\n      <td>38.2</td>\n      <td>0.787</td>\n      <td>40</td>\n      <td>1</td>\n    </tr>\n    <tr>\n      <th>159</th>\n      <td>17</td>\n      <td>163</td>\n      <td>72</td>\n      <td>41</td>\n      <td>114</td>\n      <td>40.9</td>\n      <td>0.817</td>\n      <td>47</td>\n      <td>1</td>\n    </tr>\n    <tr>\n      <th>458</th>\n      <td>10</td>\n      <td>148</td>\n      <td>84</td>\n      <td>48</td>\n      <td>237</td>\n      <td>37.6</td>\n      <td>1.001</td>\n      <td>51</td>\n      <td>1</td>\n    </tr>\n    <tr>\n      <th>546</th>\n      <td>5</td>\n      <td>187</td>\n      <td>76</td>\n      <td>27</td>\n      <td>207</td>\n      <td>43.6</td>\n      <td>1.034</td>\n      <td>53</td>\n      <td>1</td>\n    </tr>\n    <tr>\n      <th>152</th>\n      <td>9</td>\n      <td>156</td>\n      <td>86</td>\n      <td>28</td>\n      <td>155</td>\n      <td>34.3</td>\n      <td>1.189</td>\n      <td>42</td>\n      <td>1</td>\n    </tr>\n    <tr>\n      <th>259</th>\n      <td>11</td>\n      <td>155</td>\n      <td>76</td>\n      <td>28</td>\n      <td>150</td>\n      <td>33.3</td>\n      <td>1.353</td>\n      <td>51</td>\n      <td>1</td>\n    </tr>\n  </tbody>\n</table>\n</div>"
     },
     "metadata": {}
    }
   ],
   "execution_count": null
  },
  {
   "cell_type": "markdown",
   "source": "Now let's find the 4 largest values for `\"age\"`",
   "metadata": {
    "colab_type": "text",
    "id": "BIJkXsK4ch-u",
    "cell_id": "00025-31c03cc1-a702-4c90-89f0-dab8fb9b51bf",
    "deepnote_cell_type": "markdown"
   }
  },
  {
   "cell_type": "code",
   "metadata": {
    "colab_type": "code",
    "id": "kSl28jLLdAF9",
    "colab": {},
    "cell_id": "00026-9728e4ca-d0d3-4d8c-a818-707a90e9e5d3",
    "deepnote_to_be_reexecuted": false,
    "source_hash": "9b75deaa",
    "execution_start": 1625600179219,
    "execution_millis": 15,
    "deepnote_cell_type": "code"
   },
   "source": "# YOUR CODE HERE\nnewdata = newdata.sort_values(by='age', ascending = False)\nnewdata['age'][0:4]",
   "outputs": [
    {
     "output_type": "execute_result",
     "execution_count": 27,
     "data": {
      "text/plain": "375    58\n206    57\n43     54\n603    54\nName: age, dtype: int64"
     },
     "metadata": {}
    }
   ],
   "execution_count": null
  },
  {
   "cell_type": "markdown",
   "source": "Now find the smallest 4 values for `\"pedi\"` and `\"plas\"` in reverse order (smallest to largest).",
   "metadata": {
    "colab_type": "text",
    "id": "fJRwe8UfqvNG",
    "cell_id": "00027-a5e12cb1-a313-47bf-9640-256181c460ad",
    "deepnote_cell_type": "markdown"
   }
  },
  {
   "cell_type": "code",
   "metadata": {
    "colab_type": "code",
    "id": "icQcbPg1quNI",
    "colab": {},
    "cell_id": "00028-2add4c0a-65b7-424e-a4d9-756817979e60",
    "deepnote_to_be_reexecuted": false,
    "source_hash": "6274573f",
    "execution_start": 1625600179271,
    "execution_millis": 4,
    "deepnote_cell_type": "code"
   },
   "source": "# YOUR CODE HERE\nnewdata = newdata.sort_values(by='pedi', ascending=True)\nprint(newdata['pedi'][0:4])\nnewdata = newdata.sort_values(by='plas', ascending=True)\nprint(newdata['plas'][0:4])",
   "outputs": [
    {
     "name": "stdout",
     "text": "424    0.516\n375    0.528\n614    0.557\n236    0.586\nName: pedi, dtype: float64\n614    138\n375    140\n663    145\n458    148\nName: plas, dtype: int64\n",
     "output_type": "stream"
    }
   ],
   "execution_count": null
  },
  {
   "cell_type": "markdown",
   "source": "<a style='text-decoration:none;line-height:16px;display:flex;color:#5B5B62;padding:10px;justify-content:end;' href='https://deepnote.com?utm_source=created-in-deepnote-cell&projectId=8d64816d-97a8-4395-8314-c30f6bf3e263' target=\"_blank\">\n<img alt='Created in deepnote.com' style='display:inline;max-height:16px;margin:0px;margin-right:7.5px;' src='data:image/svg+xml;base64,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' > </img>\nCreated in <span style='font-weight:600;margin-left:4px;'>Deepnote</span></a>",
   "metadata": {
    "tags": [],
    "created_in_deepnote_cell": true,
    "deepnote_cell_type": "markdown"
   }
  }
 ],
 "nbformat": 4,
 "nbformat_minor": 0,
 "metadata": {
  "colab": {
   "name": "Pandas_Exercises",
   "provenance": [],
   "collapsed_sections": []
  },
  "kernelspec": {
   "display_name": "Python 3",
   "language": "python",
   "name": "python3"
  },
  "language_info": {
   "codemirror_mode": {
    "name": "ipython",
    "version": 3
   },
   "file_extension": ".py",
   "mimetype": "text/x-python",
   "name": "python",
   "nbconvert_exporter": "python",
   "pygments_lexer": "ipython3",
   "version": "3.7.3"
  },
  "deepnote_notebook_id": "86faf811-6ae2-4018-b15f-d354237ab127",
  "deepnote": {},
  "deepnote_execution_queue": []
 }
}